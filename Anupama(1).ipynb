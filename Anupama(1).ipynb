{
 "cells": [
  {
   "cell_type": "markdown",
   "id": "5d0c51f0",
   "metadata": {},
   "source": [
    "# Case study on regression\n",
    "The given dataset contains price of second-hand Hyundai grand i10 car with respect to year of making. Find the best linear relationship between year and price. Can you predict the possible price of a 2022 model second-hand grand i10? Please learn about lasso regression and create a model along with linear regression. Find out which one is performing better."
   ]
  },
  {
   "cell_type": "markdown",
   "id": "e089b213",
   "metadata": {},
   "source": [
    "\n",
    "# Import libraries\n",
    "import pandas as pd\n",
    "import numpy as np\n",
    "import seaborn as sns\n",
    "import matplotlib.pyplot as plt\n",
    "data=pd.read_csv('car_age_price.csv')\n",
    "data\n"
   ]
  },
  {
   "cell_type": "code",
   "execution_count": 28,
   "id": "ca887e2e",
   "metadata": {},
   "outputs": [
    {
     "data": {
      "text/html": [
       "<div>\n",
       "<style scoped>\n",
       "    .dataframe tbody tr th:only-of-type {\n",
       "        vertical-align: middle;\n",
       "    }\n",
       "\n",
       "    .dataframe tbody tr th {\n",
       "        vertical-align: top;\n",
       "    }\n",
       "\n",
       "    .dataframe thead th {\n",
       "        text-align: right;\n",
       "    }\n",
       "</style>\n",
       "<table border=\"1\" class=\"dataframe\">\n",
       "  <thead>\n",
       "    <tr style=\"text-align: right;\">\n",
       "      <th></th>\n",
       "      <th>Year</th>\n",
       "      <th>Price</th>\n",
       "    </tr>\n",
       "  </thead>\n",
       "  <tbody>\n",
       "    <tr>\n",
       "      <th>0</th>\n",
       "      <td>2018</td>\n",
       "      <td>465000</td>\n",
       "    </tr>\n",
       "    <tr>\n",
       "      <th>1</th>\n",
       "      <td>2019</td>\n",
       "      <td>755000</td>\n",
       "    </tr>\n",
       "    <tr>\n",
       "      <th>2</th>\n",
       "      <td>2019</td>\n",
       "      <td>700000</td>\n",
       "    </tr>\n",
       "    <tr>\n",
       "      <th>3</th>\n",
       "      <td>2018</td>\n",
       "      <td>465000</td>\n",
       "    </tr>\n",
       "    <tr>\n",
       "      <th>4</th>\n",
       "      <td>2018</td>\n",
       "      <td>465000</td>\n",
       "    </tr>\n",
       "    <tr>\n",
       "      <th>...</th>\n",
       "      <td>...</td>\n",
       "      <td>...</td>\n",
       "    </tr>\n",
       "    <tr>\n",
       "      <th>107</th>\n",
       "      <td>2016</td>\n",
       "      <td>375000</td>\n",
       "    </tr>\n",
       "    <tr>\n",
       "      <th>108</th>\n",
       "      <td>2014</td>\n",
       "      <td>300000</td>\n",
       "    </tr>\n",
       "    <tr>\n",
       "      <th>109</th>\n",
       "      <td>2015</td>\n",
       "      <td>425000</td>\n",
       "    </tr>\n",
       "    <tr>\n",
       "      <th>110</th>\n",
       "      <td>2016</td>\n",
       "      <td>420000</td>\n",
       "    </tr>\n",
       "    <tr>\n",
       "      <th>111</th>\n",
       "      <td>2015</td>\n",
       "      <td>425000</td>\n",
       "    </tr>\n",
       "  </tbody>\n",
       "</table>\n",
       "<p>112 rows × 2 columns</p>\n",
       "</div>"
      ],
      "text/plain": [
       "     Year   Price\n",
       "0    2018  465000\n",
       "1    2019  755000\n",
       "2    2019  700000\n",
       "3    2018  465000\n",
       "4    2018  465000\n",
       "..    ...     ...\n",
       "107  2016  375000\n",
       "108  2014  300000\n",
       "109  2015  425000\n",
       "110  2016  420000\n",
       "111  2015  425000\n",
       "\n",
       "[112 rows x 2 columns]"
      ]
     },
     "execution_count": 28,
     "metadata": {},
     "output_type": "execute_result"
    }
   ],
   "source": [
    "import pandas as pd\n",
    "import numpy as np\n",
    "import seaborn as sns\n",
    "import matplotlib.pyplot as plt\n",
    "from scipy import stats\n",
    "data=pd.read_csv('car_age_price.csv')\n",
    "data"
   ]
  },
  {
   "cell_type": "markdown",
   "id": "4a31592e",
   "metadata": {},
   "source": [
    "# EDA\n"
   ]
  },
  {
   "cell_type": "code",
   "execution_count": 44,
   "id": "f9dae22f",
   "metadata": {},
   "outputs": [
    {
     "name": "stdout",
     "output_type": "stream",
     "text": [
      "<class 'pandas.core.frame.DataFrame'>\n",
      "RangeIndex: 112 entries, 0 to 111\n",
      "Data columns (total 2 columns):\n",
      " #   Column  Non-Null Count  Dtype\n",
      "---  ------  --------------  -----\n",
      " 0   Year    112 non-null    int64\n",
      " 1   Price   112 non-null    int64\n",
      "dtypes: int64(2)\n",
      "memory usage: 1.9 KB\n"
     ]
    }
   ],
   "source": [
    "data.info()\n"
   ]
  },
  {
   "cell_type": "code",
   "execution_count": 45,
   "id": "dc8fa1a7",
   "metadata": {},
   "outputs": [
    {
     "data": {
      "text/plain": [
       "Year     0\n",
       "Price    0\n",
       "dtype: int64"
      ]
     },
     "execution_count": 45,
     "metadata": {},
     "output_type": "execute_result"
    }
   ],
   "source": [
    "data.isnull().sum()"
   ]
  },
  {
   "cell_type": "code",
   "execution_count": 46,
   "id": "e8d5ebcb",
   "metadata": {},
   "outputs": [
    {
     "data": {
      "text/html": [
       "<div>\n",
       "<style scoped>\n",
       "    .dataframe tbody tr th:only-of-type {\n",
       "        vertical-align: middle;\n",
       "    }\n",
       "\n",
       "    .dataframe tbody tr th {\n",
       "        vertical-align: top;\n",
       "    }\n",
       "\n",
       "    .dataframe thead th {\n",
       "        text-align: right;\n",
       "    }\n",
       "</style>\n",
       "<table border=\"1\" class=\"dataframe\">\n",
       "  <thead>\n",
       "    <tr style=\"text-align: right;\">\n",
       "      <th></th>\n",
       "      <th>Year</th>\n",
       "      <th>Price</th>\n",
       "    </tr>\n",
       "  </thead>\n",
       "  <tbody>\n",
       "    <tr>\n",
       "      <th>count</th>\n",
       "      <td>112.000000</td>\n",
       "      <td>112.000000</td>\n",
       "    </tr>\n",
       "    <tr>\n",
       "      <th>mean</th>\n",
       "      <td>3.669643</td>\n",
       "      <td>18.366071</td>\n",
       "    </tr>\n",
       "    <tr>\n",
       "      <th>std</th>\n",
       "      <td>1.629616</td>\n",
       "      <td>9.271671</td>\n",
       "    </tr>\n",
       "    <tr>\n",
       "      <th>min</th>\n",
       "      <td>0.000000</td>\n",
       "      <td>0.000000</td>\n",
       "    </tr>\n",
       "    <tr>\n",
       "      <th>25%</th>\n",
       "      <td>2.000000</td>\n",
       "      <td>11.750000</td>\n",
       "    </tr>\n",
       "    <tr>\n",
       "      <th>50%</th>\n",
       "      <td>4.000000</td>\n",
       "      <td>21.000000</td>\n",
       "    </tr>\n",
       "    <tr>\n",
       "      <th>75%</th>\n",
       "      <td>4.000000</td>\n",
       "      <td>27.000000</td>\n",
       "    </tr>\n",
       "    <tr>\n",
       "      <th>max</th>\n",
       "      <td>7.000000</td>\n",
       "      <td>34.000000</td>\n",
       "    </tr>\n",
       "  </tbody>\n",
       "</table>\n",
       "</div>"
      ],
      "text/plain": [
       "             Year       Price\n",
       "count  112.000000  112.000000\n",
       "mean     3.669643   18.366071\n",
       "std      1.629616    9.271671\n",
       "min      0.000000    0.000000\n",
       "25%      2.000000   11.750000\n",
       "50%      4.000000   21.000000\n",
       "75%      4.000000   27.000000\n",
       "max      7.000000   34.000000"
      ]
     },
     "execution_count": 46,
     "metadata": {},
     "output_type": "execute_result"
    }
   ],
   "source": [
    "data.describe()"
   ]
  },
  {
   "cell_type": "markdown",
   "id": "8cc690e3",
   "metadata": {},
   "source": [
    "# Boxplot"
   ]
  },
  {
   "cell_type": "code",
   "execution_count": 47,
   "id": "e84126b8",
   "metadata": {},
   "outputs": [
    {
     "data": {
      "image/png": "[encoded data removed]",
      "text/plain": [
       "<Figure size 640x480 with 1 Axes>"
      ]
     },
     "metadata": {},
     "output_type": "display_data"
    },
    {
     "data": {
      "image/png": "[encoded data removed]",
      "text/plain": [
       "<Figure size 640x480 with 1 Axes>"
      ]
     },
     "metadata": {},
     "output_type": "display_data"
    }
   ],
   "source": [
    "for i in data:\n",
    "    sns.boxplot(x=data[i])\n",
    "    plt.show()"
   ]
  },
  {
   "cell_type": "markdown",
   "id": "d52bca42",
   "metadata": {},
   "source": [
    "# No outliers"
   ]
  },
  {
   "cell_type": "markdown",
   "id": "e8113603",
   "metadata": {},
   "source": [
    "# Regression Analysis"
   ]
  },
  {
   "cell_type": "code",
   "execution_count": 39,
   "id": "82103327",
   "metadata": {},
   "outputs": [],
   "source": [
    "\n",
    "corr_matrix=data.corr()"
   ]
  },
  {
   "cell_type": "markdown",
   "id": "7d7c1fab",
   "metadata": {},
   "source": [
    "\n",
    "plt.subplots(figsize=(6,4))\n",
    "sns.heatmap(corr_matrix,annot=True,cmap='Accent')\n",
    "plt.plot()"
   ]
  },
  {
   "cell_type": "code",
   "execution_count": 6,
   "id": "3879cd69",
   "metadata": {},
   "outputs": [
    {
     "data": {
      "text/plain": [
       "Index(['Year', 'Price'], dtype='object')"
      ]
     },
     "execution_count": 6,
     "metadata": {},
     "output_type": "execute_result"
    }
   ],
   "source": [
    "data.columns"
   ]
  },
  {
   "cell_type": "markdown",
   "id": "f8cb283d",
   "metadata": {},
   "source": [
    "# Assigning x value as year and y value as price\n"
   ]
  },
  {
   "cell_type": "code",
   "execution_count": 52,
   "id": "b9d5a88a",
   "metadata": {},
   "outputs": [],
   "source": [
    "x = data.drop(['Price'], axis = 1)\n",
    "y = data['Price']"
   ]
  },
  {
   "cell_type": "markdown",
   "id": "0cb83b2e",
   "metadata": {},
   "source": [
    "\n",
    "from sklearn.model_selection import train_test_split\n",
    "x_train,x_test,y_train,y_test=train_test_split(x,y,random_state=42,test_size=0.2)"
   ]
  },
  {
   "cell_type": "code",
   "execution_count": 75,
   "id": "ba4878c3",
   "metadata": {},
   "outputs": [
    {
     "name": "stdout",
     "output_type": "stream",
     "text": [
      "[[ 1.43643129]\n",
      " [ 0.20363202]\n",
      " [ 0.82003166]\n",
      " [ 0.82003166]\n",
      " [ 0.82003166]\n",
      " [-1.02916725]\n",
      " [ 0.20363202]\n",
      " [ 0.82003166]\n",
      " [ 1.43643129]\n",
      " [ 1.43643129]\n",
      " [-2.26196651]\n",
      " [ 0.20363202]\n",
      " [-1.02916725]\n",
      " [ 2.05283092]\n",
      " [ 0.82003166]\n",
      " [ 1.43643129]\n",
      " [-2.26196651]\n",
      " [-1.02916725]\n",
      " [ 0.20363202]\n",
      " [ 0.20363202]\n",
      " [ 0.20363202]\n",
      " [ 0.20363202]\n",
      " [ 0.20363202]\n",
      " [ 0.20363202]\n",
      " [ 0.20363202]\n",
      " [ 0.20363202]\n",
      " [-1.02916725]\n",
      " [-1.02916725]\n",
      " [-1.64556688]\n",
      " [-1.02916725]\n",
      " [ 0.20363202]\n",
      " [ 1.43643129]\n",
      " [ 0.82003166]\n",
      " [ 0.20363202]] [598895.38633194 505711.87168759 552303.62900976 552303.62900976\n",
      " 552303.62900976 412528.35704324 505711.87168759 552303.62900976\n",
      " 598895.38633194 598895.38633194 319344.84239888 505711.87168759\n",
      " 412528.35704324 645487.14365411 552303.62900976 598895.38633194\n",
      " 319344.84239888 412528.35704324 505711.87168759 505711.87168759\n",
      " 505711.87168759 505711.87168759 505711.87168759 505711.87168759\n",
      " 505711.87168759 505711.87168759 412528.35704324 412528.35704324\n",
      " 365936.59972106 412528.35704324 505711.87168759 598895.38633194\n",
      " 552303.62900976 505711.87168759]\n"
     ]
    }
   ],
   "source": [
    "from sklearn.linear_model import LinearRegression\n",
    "lr=LinearRegression()\n",
    "model=lr.fit(x_train,y_train)\n",
    "predictions=model.predict(x_test)\n",
    "print(x_test,predictions)"
   ]
  },
  {
   "cell_type": "markdown",
   "id": "1406af3c",
   "metadata": {},
   "source": [
    "# Finding error"
   ]
  },
  {
   "cell_type": "code",
   "execution_count": 76,
   "id": "4f566027",
   "metadata": {},
   "outputs": [
    {
     "name": "stdout",
     "output_type": "stream",
     "text": [
      "Mean squared error= 3962573261.894263\n",
      "R squared value= 0.4887760028600362\n"
     ]
    }
   ],
   "source": [
    "\n",
    "from sklearn.metrics import mean_squared_error,r2_score\n",
    "print('Mean squared error=',mean_squared_error(y_test,predictions))\n",
    "print('R squared value=',r2_score(y_test,predictions))"
   ]
  },
  {
   "cell_type": "markdown",
   "id": "058995dc",
   "metadata": {},
   "source": [
    "# Standardisation"
   ]
  },
  {
   "cell_type": "code",
   "execution_count": 53,
   "id": "6b0ca391",
   "metadata": {},
   "outputs": [
    {
     "data": {
      "text/html": [
       "<div>\n",
       "<style scoped>\n",
       "    .dataframe tbody tr th:only-of-type {\n",
       "        vertical-align: middle;\n",
       "    }\n",
       "\n",
       "    .dataframe tbody tr th {\n",
       "        vertical-align: top;\n",
       "    }\n",
       "\n",
       "    .dataframe thead th {\n",
       "        text-align: right;\n",
       "    }\n",
       "</style>\n",
       "<table border=\"1\" class=\"dataframe\">\n",
       "  <thead>\n",
       "    <tr style=\"text-align: right;\">\n",
       "      <th></th>\n",
       "      <th>Year</th>\n",
       "    </tr>\n",
       "  </thead>\n",
       "  <tbody>\n",
       "    <tr>\n",
       "      <th>count</th>\n",
       "      <td>112.000000</td>\n",
       "    </tr>\n",
       "    <tr>\n",
       "      <th>mean</th>\n",
       "      <td>3.669643</td>\n",
       "    </tr>\n",
       "    <tr>\n",
       "      <th>std</th>\n",
       "      <td>1.629616</td>\n",
       "    </tr>\n",
       "    <tr>\n",
       "      <th>min</th>\n",
       "      <td>0.000000</td>\n",
       "    </tr>\n",
       "    <tr>\n",
       "      <th>25%</th>\n",
       "      <td>2.000000</td>\n",
       "    </tr>\n",
       "    <tr>\n",
       "      <th>50%</th>\n",
       "      <td>4.000000</td>\n",
       "    </tr>\n",
       "    <tr>\n",
       "      <th>75%</th>\n",
       "      <td>4.000000</td>\n",
       "    </tr>\n",
       "    <tr>\n",
       "      <th>max</th>\n",
       "      <td>7.000000</td>\n",
       "    </tr>\n",
       "  </tbody>\n",
       "</table>\n",
       "</div>"
      ],
      "text/plain": [
       "             Year\n",
       "count  112.000000\n",
       "mean     3.669643\n",
       "std      1.629616\n",
       "min      0.000000\n",
       "25%      2.000000\n",
       "50%      4.000000\n",
       "75%      4.000000\n",
       "max      7.000000"
      ]
     },
     "execution_count": 53,
     "metadata": {},
     "output_type": "execute_result"
    }
   ],
   "source": [
    "x.describe()"
   ]
  },
  {
   "cell_type": "code",
   "execution_count": 54,
   "id": "b5e9cc70",
   "metadata": {},
   "outputs": [
    {
     "data": {
      "text/html": [
       "<div>\n",
       "<style scoped>\n",
       "    .dataframe tbody tr th:only-of-type {\n",
       "        vertical-align: middle;\n",
       "    }\n",
       "\n",
       "    .dataframe tbody tr th {\n",
       "        vertical-align: top;\n",
       "    }\n",
       "\n",
       "    .dataframe thead th {\n",
       "        text-align: right;\n",
       "    }\n",
       "</style>\n",
       "<table border=\"1\" class=\"dataframe\">\n",
       "  <thead>\n",
       "    <tr style=\"text-align: right;\">\n",
       "      <th></th>\n",
       "      <th>Year</th>\n",
       "    </tr>\n",
       "  </thead>\n",
       "  <tbody>\n",
       "    <tr>\n",
       "      <th>0</th>\n",
       "      <td>5</td>\n",
       "    </tr>\n",
       "    <tr>\n",
       "      <th>1</th>\n",
       "      <td>6</td>\n",
       "    </tr>\n",
       "    <tr>\n",
       "      <th>2</th>\n",
       "      <td>6</td>\n",
       "    </tr>\n",
       "    <tr>\n",
       "      <th>3</th>\n",
       "      <td>5</td>\n",
       "    </tr>\n",
       "    <tr>\n",
       "      <th>4</th>\n",
       "      <td>5</td>\n",
       "    </tr>\n",
       "  </tbody>\n",
       "</table>\n",
       "</div>"
      ],
      "text/plain": [
       "   Year\n",
       "0     5\n",
       "1     6\n",
       "2     6\n",
       "3     5\n",
       "4     5"
      ]
     },
     "execution_count": 54,
     "metadata": {},
     "output_type": "execute_result"
    }
   ],
   "source": [
    "x.head()"
   ]
  },
  {
   "cell_type": "markdown",
   "id": "70c83493",
   "metadata": {},
   "source": [
    "# Regression"
   ]
  },
  {
   "cell_type": "code",
   "execution_count": 55,
   "id": "11f4e305",
   "metadata": {},
   "outputs": [],
   "source": [
    "from sklearn.preprocessing import StandardScaler\n",
    "std_scaler=StandardScaler()"
   ]
  },
  {
   "cell_type": "code",
   "execution_count": 57,
   "id": "86cdc667",
   "metadata": {},
   "outputs": [],
   "source": [
    "x=std_scaler.fit_transform(x)\n",
    "y=data['Price']"
   ]
  },
  {
   "cell_type": "code",
   "execution_count": 58,
   "id": "651a623c",
   "metadata": {},
   "outputs": [],
   "source": [
    "from sklearn.model_selection import train_test_split\n",
    "x_train,x_test,y_train,y_test=train_test_split(x,y,random_state=42,test_size=0.2)"
   ]
  },
  {
   "cell_type": "code",
   "execution_count": 59,
   "id": "923c5128",
   "metadata": {},
   "outputs": [
    {
     "name": "stdout",
     "output_type": "stream",
     "text": [
      "[[ 1.43643129]\n",
      " [ 0.20363202]\n",
      " [ 0.82003166]\n",
      " [ 0.82003166]\n",
      " [ 0.82003166]\n",
      " [-1.02916725]\n",
      " [ 0.20363202]\n",
      " [ 0.82003166]\n",
      " [ 1.43643129]\n",
      " [ 1.43643129]\n",
      " [-2.26196651]\n",
      " [ 0.20363202]\n",
      " [-1.02916725]\n",
      " [ 2.05283092]\n",
      " [ 0.82003166]\n",
      " [ 1.43643129]\n",
      " [-2.26196651]\n",
      " [-1.02916725]\n",
      " [ 0.20363202]\n",
      " [ 0.20363202]\n",
      " [ 0.20363202]\n",
      " [ 0.20363202]\n",
      " [ 0.20363202]] [29.89940674 20.45196711 25.17568693 25.17568693 25.17568693 11.00452748\n",
      " 20.45196711 25.17568693 29.89940674 29.89940674  1.55708784 20.45196711\n",
      " 11.00452748 34.62312656 25.17568693 29.89940674  1.55708784 11.00452748\n",
      " 20.45196711 20.45196711 20.45196711 20.45196711 20.45196711]\n"
     ]
    }
   ],
   "source": [
    "from sklearn.linear_model import LinearRegression\n",
    "lr=LinearRegression()\n",
    "model=lr.fit(x_train,y_train)\n",
    "predictions=model.predict(x_test)\n",
    "print(x_test,predictions)"
   ]
  },
  {
   "cell_type": "code",
   "execution_count": 60,
   "id": "b20ea965",
   "metadata": {},
   "outputs": [
    {
     "name": "stdout",
     "output_type": "stream",
     "text": [
      "Mean squared error= 48.44462451373819\n",
      "R squared value= 0.4044339677488379\n"
     ]
    }
   ],
   "source": [
    "from sklearn.metrics import mean_squared_error,r2_score\n",
    "print('Mean squared error=',mean_squared_error(y_test,predictions))\n",
    "print('R squared value=',r2_score(y_test,predictions))"
   ]
  },
  {
   "cell_type": "markdown",
   "id": "0cca4fc5",
   "metadata": {},
   "source": [
    "# Lasso Regression"
   ]
  },
  {
   "cell_type": "code",
   "execution_count": 65,
   "id": "e0e659ca",
   "metadata": {},
   "outputs": [],
   "source": [
    "from sklearn import datasets\n",
    "from sklearn.linear_model import Lasso\n",
    "from sklearn.model_selection import train_test_split\n",
    "\n",
    "\n",
    "data=pd.read_csv('car_age_price.csv')\n"
   ]
  },
  {
   "cell_type": "code",
   "execution_count": 67,
   "id": "c198d5c8",
   "metadata": {},
   "outputs": [],
   "source": [
    "x=std_scaler.fit_transform(x)\n",
    "y=data['Price']\n",
    "x_train, x_test, y_train, y_test = train_test_split(x, y, test_size=0.3, random_state=42)"
   ]
  },
  {
   "cell_type": "code",
   "execution_count": 68,
   "id": "dbfaac3c",
   "metadata": {},
   "outputs": [],
   "source": [
    "lasso = Lasso(alpha=1.0)"
   ]
  },
  {
   "cell_type": "code",
   "execution_count": 69,
   "id": "3de06fa4",
   "metadata": {},
   "outputs": [
    {
     "data": {
      "text/plain": [
       "Lasso()"
      ]
     },
     "execution_count": 69,
     "metadata": {},
     "output_type": "execute_result"
    }
   ],
   "source": [
    "lasso.fit(x_train, y_train)\n"
   ]
  },
  {
   "cell_type": "code",
   "execution_count": 70,
   "id": "94fe134a",
   "metadata": {},
   "outputs": [
    {
     "data": {
      "text/plain": [
       "(0.4887809383759546, 0.6359978340326062)"
      ]
     },
     "execution_count": 70,
     "metadata": {},
     "output_type": "execute_result"
    }
   ],
   "source": [
    "lasso.score(x_test, y_test), lasso.score(x_train, y_train)"
   ]
  },
  {
   "cell_type": "markdown",
   "id": "89ba306e",
   "metadata": {},
   "source": [
    "# Since we got better scores in Lasso regression compared to Linear regression it is the better model\n"
   ]
  },
  {
   "cell_type": "markdown",
   "id": "a587c491",
   "metadata": {},
   "source": [
    "# Finding price of 2022 model using lasso regression"
   ]
  },
  {
   "cell_type": "code",
   "execution_count": 77,
   "id": "275de399",
   "metadata": {},
   "outputs": [],
   "source": [
    "from sklearn.linear_model import Lasso\n"
   ]
  },
  {
   "cell_type": "code",
   "execution_count": 78,
   "id": "4c7a714e",
   "metadata": {},
   "outputs": [],
   "source": [
    "x=data.drop(['Price'],axis=1)\n",
    "y=data['Price']\n",
    "\n"
   ]
  },
  {
   "cell_type": "code",
   "execution_count": 80,
   "id": "f79db438",
   "metadata": {},
   "outputs": [],
   "source": [
    "from sklearn.model_selection import train_test_split\n",
    "x_train,x_test,y_train,y_test=train_test_split(x,y,random_state=42,test_size=0.2)"
   ]
  },
  {
   "cell_type": "code",
   "execution_count": 81,
   "id": "5b89d4ff",
   "metadata": {},
   "outputs": [],
   "source": [
    "lasso=Lasso()\n",
    "model2=lasso.fit(x_train,y_train)\n",
    "predictions=model2.predict(x_test)"
   ]
  },
  {
   "cell_type": "code",
   "execution_count": 82,
   "id": "5d26b986",
   "metadata": {},
   "outputs": [],
   "source": [
    "x=data.drop(['Price'],axis=1)\n",
    "y=data['Price']"
   ]
  },
  {
   "cell_type": "code",
   "execution_count": 83,
   "id": "4bf4f561",
   "metadata": {},
   "outputs": [
    {
     "name": "stdout",
     "output_type": "stream",
     "text": [
      "slope:47608.16\n"
     ]
    }
   ],
   "source": [
    "print('slope:%.2f'%lasso.coef_[0])"
   ]
  },
  {
   "cell_type": "code",
   "execution_count": 84,
   "id": "4f296dde",
   "metadata": {},
   "outputs": [
    {
     "name": "stdout",
     "output_type": "stream",
     "text": [
      "intercept:-95520091.25\n"
     ]
    }
   ],
   "source": [
    "print('intercept:%.2f'%lasso.intercept_)"
   ]
  },
  {
   "cell_type": "code",
   "execution_count": 93,
   "id": "2e111834",
   "metadata": {},
   "outputs": [],
   "source": [
    "slope=47608.16"
   ]
  },
  {
   "cell_type": "code",
   "execution_count": 94,
   "id": "dc569b94",
   "metadata": {},
   "outputs": [],
   "source": [
    "intercept= -95520091.25"
   ]
  },
  {
   "cell_type": "code",
   "execution_count": 90,
   "id": "8b6cd7f8",
   "metadata": {},
   "outputs": [],
   "source": [
    "def myfunc(x):\n",
    "    return slope*x + intercept"
   ]
  },
  {
   "cell_type": "code",
   "execution_count": 95,
   "id": "ff46a13d",
   "metadata": {},
   "outputs": [],
   "source": [
    "price=myfunc(2022)"
   ]
  },
  {
   "cell_type": "code",
   "execution_count": 96,
   "id": "9c643a13",
   "metadata": {},
   "outputs": [
    {
     "name": "stdout",
     "output_type": "stream",
     "text": [
      "743608.2700000107\n"
     ]
    }
   ],
   "source": [
    "print(price)"
   ]
  },
  {
   "cell_type": "code",
   "execution_count": null,
   "id": "746d4774",
   "metadata": {},
   "outputs": [],
   "source": []
  }
 ],
 "metadata": {
  "kernelspec": {
   "display_name": "Python 3 (ipykernel)",
   "language": "python",
   "name": "python3"
  },
  "language_info": {
   "codemirror_mode": {
    "name": "ipython",
    "version": 3
   },
   "file_extension": ".py",
   "mimetype": "text/x-python",
   "name": "python",
   "nbconvert_exporter": "python",
   "pygments_lexer": "ipython3",
   "version": "3.9.13"
  }
 },
 "nbformat": 4,
 "nbformat_minor": 5
}
